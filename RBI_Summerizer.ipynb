{
 "cells": [
  {
   "cell_type": "markdown",
   "metadata": {},
   "source": [
    "# 🎙️ Gemini Voice Q&A Chatbot\n",
    "\n",
    "A simple voice-enabled chatbot using **Google Gemini**. It takes your voice as input, gets a smart answer from Gemini, and speaks the answer back."
   ]
  },
  {
   "cell_type": "code",
   "execution_count": null,
   "metadata": {},
   "outputs": [],
   "source": [
    "# 🔧 Install dependencies\n",
    "!pip install google-generativeai\n",
    "!pip install SpeechRecognition pyttsx3 pyaudio --quiet"
   ]
  },
  {
   "cell_type": "code",
   "execution_count": null,
   "metadata": {},
   "outputs": [],
   "source": [
    "# 📦 Import libraries\n",
    "import os\n",
    "import google.generativeai as genai\n",
    "import speech_recognition as sr\n",
    "import pyttsx3"
   ]
  },
  {
   "cell_type": "code",
   "execution_count": null,
   "metadata": {},
   "outputs": [],
   "source": [
    "# 🔑 Set up Gemini API key\n",
    "GOOGLE_API_KEY = \"YOUR_GEMINI_API_KEY\"  # Replace with your actual key\n",
    "genai.configure(api_key=GOOGLE_API_KEY)"
   ]
  },
  {
   "cell_type": "code",
   "execution_count": null,
   "metadata": {},
   "outputs": [],
   "source": [
    "# 🔊 Initialize text-to-speech engine\n",
    "engine = pyttsx3.init()\n",
    "\n",
    "def say(text):\n",
    "    engine.say(text)\n",
    "    engine.runAndWait()"
   ]
  },
  {
   "cell_type": "code",
   "execution_count": null,
   "metadata": {},
   "outputs": [],
   "source": [
    "# 🎧 Function to convert voice to text\n",
    "def listen():\n",
    "    recognizer = sr.Recognizer()\n",
    "    with sr.Microphone() as source:\n",
    "        print(\"🎙️ Speak now...\")\n",
    "        audio = recognizer.listen(source)\n",
    "\n",
    "    try:\n",
    "        command = recognizer.recognize_google(audio)\n",
    "        print(f\"🗣️ You said: {command}\")\n",
    "        return command\n",
    "    except sr.UnknownValueError:\n",
    "        return \"Sorry, I could not understand your voice.\"\n",
    "    except sr.RequestError:\n",
    "        return \"Sorry, there was a problem with the speech recognition service.\""
   ]
  },
  {
   "cell_type": "code",
   "execution_count": null,
   "metadata": {},
   "outputs": [],
   "source": [
    "# 🤖 Start Gemini chat session\n",
    "model = genai.GenerativeModel(\"models/gemini-1.5-flash-latest\")\n",
    "chat = model.start_chat(history=[])"
   ]
  },
  {
   "cell_type": "code",
   "execution_count": null,
   "metadata": {},
   "outputs": [],
   "source": [
    "# 🧠 Ask Gemini a question\n",
    "def ask_gemini(prompt: str) -> str:\n",
    "    try:\n",
    "        response = chat.send_message(prompt)\n",
    "        return response.text.strip()\n",
    "    except Exception as e:\n",
    "        return f\"Error: {str(e)}\""
   ]
  },
  {
   "cell_type": "code",
   "execution_count": null,
   "metadata": {},
   "outputs": [],
   "source": [
    "# 🚀 Main voice assistant loop\n",
    "while True:\n",
    "    query = listen()\n",
    "    if query.lower() in ['exit', 'quit', 'stop']:\n",
    "        say(\"Okay, goodbye!\")\n",
    "        break\n",
    "\n",
    "    reply = ask_gemini(query)\n",
    "    print(\"🤖 Gemini:\", reply)\n",
    "    say(reply)"
   ]
  }
 ],
 "metadata": {
  "kernelspec": {
   "display_name": "Python 3",
   "language": "python",
   "name": "python3"
  },
  "language_info": {
   "name": "python",
   "version": "3.11"
  }
 },
 "nbformat": 4,
 "nbformat_minor": 2
}
